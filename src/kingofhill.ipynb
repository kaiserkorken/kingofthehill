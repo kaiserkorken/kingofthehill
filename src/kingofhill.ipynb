{
 "cells": [
  {
   "cell_type": "code",
   "execution_count": 1,
   "id": "507dc740-d1b8-4b45-a38f-541d0c3fd8d3",
   "metadata": {},
   "outputs": [],
   "source": [
    "import numpy as np"
   ]
  },
  {
   "cell_type": "code",
   "execution_count": 64,
   "id": "b64032ae-a9df-4f38-81be-961cc5c3b784",
   "metadata": {},
   "outputs": [],
   "source": [
    "def bitboard():\n",
    "    return np.zeros((8,8), dtype=bool)\n",
    "\n",
    "def giveBitboards():\n",
    "    # creates bitboards\n",
    "    b = {\n",
    "        \n",
    "        # lines\n",
    "        \"la\" : bitboard(),\n",
    "        \"lb\" : bitboard(),\n",
    "        \"lc\" : bitboard(),\n",
    "        \"ld\" : bitboard(),\n",
    "        \"le\" : bitboard(),\n",
    "        \"lf\" : bitboard(),\n",
    "        \"lg\" : bitboard(),\n",
    "        \"lh\" : bitboard(),\n",
    "        # rows\n",
    "        \"1\" : bitboard(),\n",
    "        \"2\" : bitboard(),\n",
    "        \"3\" : bitboard(),\n",
    "        \"4\" : bitboard(),\n",
    "        \"5\" : bitboard(),\n",
    "        \"6\" : bitboard(),\n",
    "        \"7\" : bitboard(),\n",
    "        \"8\" : bitboard(),\n",
    "        # piece colors\n",
    "        \"W\" : bitboard(),\n",
    "        \"B\" : bitboard(),\n",
    "        # pieces\n",
    "        \"k\" : bitboard(),\n",
    "        \"q\" : bitboard(),\n",
    "        \"n\" : bitboard(),\n",
    "        \"r\" : bitboard(),\n",
    "        \"b\" : bitboard(),\n",
    "        \"p\" : bitboard(),\n",
    "        \n",
    "    }\n",
    "    return b\n",
    "\n",
    "def initGame(b):\n",
    "    # initializes board\n",
    "    b['W'][0:2,:] = True\n",
    "    b['B'][-2:,:] = True\n",
    "    \n",
    "    \n",
    "    \n",
    "    b['k'][[0,-1],[4,4]] = True\n",
    "    b['q'][[0,-1],[3,3]] = True\n",
    "    b['n'][[0,0,-1,-1],[1,-2,1,-2]] = True\n",
    "    b['r'][[0,0,-1,-1],[0,-1,0,-1]] = True\n",
    "    b['b'][[0,0,-1,-1],[2,-3,2,-3]] = True\n",
    "    b['p'][[1,-2],:] = True\n",
    "    \n",
    "    return b\n",
    "\n",
    "\n",
    "def printBoard(b):\n",
    "    # pretty print board\n",
    "    board = np.empty((8,8), dtype=str)\n",
    "    board[:] = '_'\n",
    "    \n",
    "    board[b['B'] & b['k']] = 'k'\n",
    "    board[b['B'] & b['q']] = 'q'\n",
    "    board[b['B'] & b['n']] = 'n'\n",
    "    board[b['B'] & b['r']] = 'r'\n",
    "    board[b['B'] & b['b']] = 'b'\n",
    "    board[b['B'] & b['p']] = 'p'\n",
    "    \n",
    "    board[b['W'] & b['k']] = 'K'\n",
    "    board[b['W'] & b['q']] = 'Q'\n",
    "    board[b['W'] & b['n']] = 'N'\n",
    "    board[b['W'] & b['r']] = 'R'\n",
    "    board[b['W'] & b['b']] = 'B'\n",
    "    board[b['W'] & b['p']] = 'P'\n",
    "\n",
    "    cols = np.reshape(['a','b','c','d','e','f','g','h'],(8,1))\n",
    "    rows = np.reshape(['/','1','2','3','4','5','6','7','8'],(9,1))\n",
    "    \n",
    "    print(board.shape)\n",
    "    print(cols.shape)\n",
    "    print(rows.shape)\n",
    "    \n",
    "    board = np.hstack((board, np.transpose(cols)))\n",
    "    return board"
   ]
  },
  {
   "cell_type": "code",
   "execution_count": 65,
   "id": "78c63845-80af-4553-9ca5-b54613f3a8f3",
   "metadata": {},
   "outputs": [],
   "source": [
    "def generateMoves(b, player):\n",
    "    moves = list\n",
    "    # striking\n",
    "    \n",
    "    # moving\n",
    "    \n",
    "    \n",
    "    return moves\n",
    "\n",
    "def movablePawnsW(b):\n",
    "    return np.roll((b['W'] & b['p']), 8) & ~(b['W'] | b['B'])\n",
    "\n",
    "\n",
    "#((B & SCH) >> 8) & ~(WEI | SCH)"
   ]
  },
  {
   "cell_type": "code",
   "execution_count": 66,
   "id": "bf8ebffc-f17c-4654-b7b7-44b3673703ab",
   "metadata": {},
   "outputs": [
    {
     "name": "stdout",
     "output_type": "stream",
     "text": [
      "(8, 8)\n",
      "(8, 1)\n",
      "(9, 1)\n"
     ]
    },
    {
     "ename": "ValueError",
     "evalue": "all the input array dimensions for the concatenation axis must match exactly, but along dimension 0, the array at index 0 has size 8 and the array at index 1 has size 1",
     "output_type": "error",
     "traceback": [
      "\u001b[0;31m---------------------------------------------------------------------------\u001b[0m",
      "\u001b[0;31mValueError\u001b[0m                                Traceback (most recent call last)",
      "\u001b[0;32m<ipython-input-66-6e9e02d3bdda>\u001b[0m in \u001b[0;36m<module>\u001b[0;34m\u001b[0m\n\u001b[1;32m      1\u001b[0m \u001b[0mb\u001b[0m \u001b[0;34m=\u001b[0m \u001b[0minitGame\u001b[0m\u001b[0;34m(\u001b[0m\u001b[0mgiveBitboards\u001b[0m\u001b[0;34m(\u001b[0m\u001b[0;34m)\u001b[0m\u001b[0;34m)\u001b[0m\u001b[0;34m\u001b[0m\u001b[0;34m\u001b[0m\u001b[0m\n\u001b[0;32m----> 2\u001b[0;31m \u001b[0mprint\u001b[0m\u001b[0;34m(\u001b[0m\u001b[0mprintBoard\u001b[0m\u001b[0;34m(\u001b[0m\u001b[0mb\u001b[0m\u001b[0;34m)\u001b[0m\u001b[0;34m)\u001b[0m\u001b[0;34m\u001b[0m\u001b[0;34m\u001b[0m\u001b[0m\n\u001b[0m\u001b[1;32m      3\u001b[0m \u001b[0mmovablePawnsW\u001b[0m\u001b[0;34m(\u001b[0m\u001b[0mb\u001b[0m\u001b[0;34m)\u001b[0m\u001b[0;34m\u001b[0m\u001b[0;34m\u001b[0m\u001b[0m\n",
      "\u001b[0;32m<ipython-input-64-d29aab5402fb>\u001b[0m in \u001b[0;36mprintBoard\u001b[0;34m(b)\u001b[0m\n\u001b[1;32m     81\u001b[0m     \u001b[0mprint\u001b[0m\u001b[0;34m(\u001b[0m\u001b[0mrows\u001b[0m\u001b[0;34m.\u001b[0m\u001b[0mshape\u001b[0m\u001b[0;34m)\u001b[0m\u001b[0;34m\u001b[0m\u001b[0;34m\u001b[0m\u001b[0m\n\u001b[1;32m     82\u001b[0m \u001b[0;34m\u001b[0m\u001b[0m\n\u001b[0;32m---> 83\u001b[0;31m     \u001b[0mboard\u001b[0m \u001b[0;34m=\u001b[0m \u001b[0mnp\u001b[0m\u001b[0;34m.\u001b[0m\u001b[0mhstack\u001b[0m\u001b[0;34m(\u001b[0m\u001b[0;34m(\u001b[0m\u001b[0mboard\u001b[0m\u001b[0;34m,\u001b[0m \u001b[0mnp\u001b[0m\u001b[0;34m.\u001b[0m\u001b[0mtranspose\u001b[0m\u001b[0;34m(\u001b[0m\u001b[0mcols\u001b[0m\u001b[0;34m)\u001b[0m\u001b[0;34m)\u001b[0m\u001b[0;34m)\u001b[0m\u001b[0;34m\u001b[0m\u001b[0;34m\u001b[0m\u001b[0m\n\u001b[0m\u001b[1;32m     84\u001b[0m     \u001b[0;32mreturn\u001b[0m \u001b[0mboard\u001b[0m\u001b[0;34m\u001b[0m\u001b[0;34m\u001b[0m\u001b[0m\n",
      "\u001b[0;32m<__array_function__ internals>\u001b[0m in \u001b[0;36mhstack\u001b[0;34m(*args, **kwargs)\u001b[0m\n",
      "\u001b[0;32m~/opt/anaconda3/lib/python3.7/site-packages/numpy/core/shape_base.py\u001b[0m in \u001b[0;36mhstack\u001b[0;34m(tup)\u001b[0m\n\u001b[1;32m    344\u001b[0m         \u001b[0;32mreturn\u001b[0m \u001b[0m_nx\u001b[0m\u001b[0;34m.\u001b[0m\u001b[0mconcatenate\u001b[0m\u001b[0;34m(\u001b[0m\u001b[0marrs\u001b[0m\u001b[0;34m,\u001b[0m \u001b[0;36m0\u001b[0m\u001b[0;34m)\u001b[0m\u001b[0;34m\u001b[0m\u001b[0;34m\u001b[0m\u001b[0m\n\u001b[1;32m    345\u001b[0m     \u001b[0;32melse\u001b[0m\u001b[0;34m:\u001b[0m\u001b[0;34m\u001b[0m\u001b[0;34m\u001b[0m\u001b[0m\n\u001b[0;32m--> 346\u001b[0;31m         \u001b[0;32mreturn\u001b[0m \u001b[0m_nx\u001b[0m\u001b[0;34m.\u001b[0m\u001b[0mconcatenate\u001b[0m\u001b[0;34m(\u001b[0m\u001b[0marrs\u001b[0m\u001b[0;34m,\u001b[0m \u001b[0;36m1\u001b[0m\u001b[0;34m)\u001b[0m\u001b[0;34m\u001b[0m\u001b[0;34m\u001b[0m\u001b[0m\n\u001b[0m\u001b[1;32m    347\u001b[0m \u001b[0;34m\u001b[0m\u001b[0m\n\u001b[1;32m    348\u001b[0m \u001b[0;34m\u001b[0m\u001b[0m\n",
      "\u001b[0;32m<__array_function__ internals>\u001b[0m in \u001b[0;36mconcatenate\u001b[0;34m(*args, **kwargs)\u001b[0m\n",
      "\u001b[0;31mValueError\u001b[0m: all the input array dimensions for the concatenation axis must match exactly, but along dimension 0, the array at index 0 has size 8 and the array at index 1 has size 1"
     ]
    }
   ],
   "source": [
    "b = initGame(giveBitboards())\n",
    "print(printBoard(b))\n",
    "movablePawnsW(b)"
   ]
  },
  {
   "cell_type": "code",
   "execution_count": null,
   "id": "388073d1-ec02-4d4b-a24b-bfeac50a86b5",
   "metadata": {},
   "outputs": [],
   "source": []
  },
  {
   "cell_type": "code",
   "execution_count": null,
   "id": "c2aa3549-4b88-4838-bcd4-c540aa573b9c",
   "metadata": {},
   "outputs": [],
   "source": [
    "#pieces\n",
    "starting(pieces)\n",
    "pieces['q'] & pieces['B'] "
   ]
  },
  {
   "cell_type": "code",
   "execution_count": null,
   "id": "8daf7f80-b29d-48f4-9183-5aea20ff541c",
   "metadata": {},
   "outputs": [],
   "source": []
  },
  {
   "cell_type": "code",
   "execution_count": null,
   "id": "2859a1f6-ad64-451b-b0a4-dd29c43dd42d",
   "metadata": {},
   "outputs": [],
   "source": []
  }
 ],
 "metadata": {
  "kernelspec": {
   "display_name": "Python 3",
   "language": "python",
   "name": "python3"
  },
  "language_info": {
   "codemirror_mode": {
    "name": "ipython",
    "version": 3
   },
   "file_extension": ".py",
   "mimetype": "text/x-python",
   "name": "python",
   "nbconvert_exporter": "python",
   "pygments_lexer": "ipython3",
   "version": "3.7.9"
  }
 },
 "nbformat": 4,
 "nbformat_minor": 5
}
