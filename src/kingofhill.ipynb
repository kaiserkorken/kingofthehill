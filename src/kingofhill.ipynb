{
 "cells": [
  {
   "cell_type": "code",
   "execution_count": 118,
   "id": "507dc740-d1b8-4b45-a38f-541d0c3fd8d3",
   "metadata": {},
   "outputs": [],
   "source": [
    "import numpy as np\n",
    "# requires: pip install anytree\n",
    "from anytree import Node, RenderTree"
   ]
  },
  {
   "cell_type": "code",
   "execution_count": 146,
   "id": "b64032ae-a9df-4f38-81be-961cc5c3b784",
   "metadata": {},
   "outputs": [],
   "source": [
    "def bitboard():\n",
    "    # defines basic bitboards of type boolean\n",
    "    return np.zeros((8,8), dtype=bool)\n",
    "\n",
    "def giveBitboards():\n",
    "    # creates bitboards\n",
    "    b = {\n",
    "        \n",
    "        # lines\n",
    "        \"la\" : bitboard(),\n",
    "        \"lb\" : bitboard(),\n",
    "        \"lc\" : bitboard(),\n",
    "        \"ld\" : bitboard(),\n",
    "        \"le\" : bitboard(),\n",
    "        \"lf\" : bitboard(),\n",
    "        \"lg\" : bitboard(),\n",
    "        \"lh\" : bitboard(),\n",
    "        # rows\n",
    "        \"1\" : bitboard(),\n",
    "        \"2\" : bitboard(),\n",
    "        \"3\" : bitboard(),\n",
    "        \"4\" : bitboard(),\n",
    "        \"5\" : bitboard(),\n",
    "        \"6\" : bitboard(),\n",
    "        \"7\" : bitboard(),\n",
    "        \"8\" : bitboard(),#erst ab hier?\n",
    "        # piece colors\n",
    "        \"W\" : bitboard(),#reihen und spalten ergeben sich doch aus index?!\n",
    "        \"B\" : bitboard(),\n",
    "        # pieces\n",
    "        \"k\" : bitboard(),\n",
    "        \"q\" : bitboard(),\n",
    "        \"n\" : bitboard(),\n",
    "        \"r\" : bitboard(),\n",
    "        \"b\" : bitboard(),\n",
    "        \"p\" : bitboard(),\n",
    "        \n",
    "    }\n",
    "    return b\n",
    "\n",
    "def initGame(b):\n",
    "    # initializes board with pieces\n",
    "    \n",
    "    # colored pieces for black/white player\n",
    "    b['W'][0:2,:] = True\n",
    "    b['B'][-2:,:] = True\n",
    "    \n",
    "    # adds kings('k'), queens, knights, rooks, bishops and pawns to the board on respecting fields\n",
    "    b['k'][[0,-1],[4,4]] = True\n",
    "    b['q'][[0,-1],[3,3]] = True\n",
    "    b['n'][[0,0,-1,-1],[1,-2,1,-2]] = True\n",
    "    b['r'][[0,0,-1,-1],[0,-1,0,-1]] = True\n",
    "    b['b'][[0,0,-1,-1],[2,-3,2,-3]] = True\n",
    "    b['p'][[1,-2],:] = True\n",
    "    \n",
    "    return b\n",
    "\n",
    "\n",
    "def printBoard(b, flip=False):\n",
    "    # pretty prints board\n",
    "    # flip: white at bottom\n",
    "    board = np.empty((8,8), dtype=str)\n",
    "    board[:] = '_'\n",
    "    \n",
    "    # black player: lower case, white player: UPPER CASE\n",
    "    board[b['B'] & b['k']] = 'k'\n",
    "    board[b['B'] & b['q']] = 'q'\n",
    "    board[b['B'] & b['n']] = 'n'\n",
    "    board[b['B'] & b['r']] = 'r'\n",
    "    board[b['B'] & b['b']] = 'b'\n",
    "    board[b['B'] & b['p']] = 'p'\n",
    "    \n",
    "    board[b['W'] & b['k']] = 'K'\n",
    "    board[b['W'] & b['q']] = 'Q'\n",
    "    board[b['W'] & b['n']] = 'N'\n",
    "    board[b['W'] & b['r']] = 'R'\n",
    "    board[b['W'] & b['b']] = 'B'\n",
    "    board[b['W'] & b['p']] = 'P'\n",
    "\n",
    "    cols = np.reshape([['a','b','c','d','e','f','g','h'],['-','-','-','-','-','-','-','-']],(2,8))\n",
    "    rows = np.reshape([['/','-','1','2','3','4','5','6','7','8'],['|','+','|','|','|','|','|','|','|','|']],(2,10))\n",
    "    \n",
    "    board = np.concatenate((cols, board), axis=0)\n",
    "    board = np.concatenate((rows.T, board), axis=1)\n",
    "    \n",
    "    if flip == True:\n",
    "        board = np.flip(board, axis=0)\n",
    "    return board"
   ]
  },
  {
   "cell_type": "code",
   "execution_count": 152,
   "id": "78c63845-80af-4553-9ca5-b54613f3a8f3",
   "metadata": {},
   "outputs": [],
   "source": [
    "def generateMoves(b, player):\n",
    "    # generate a searchtree and search for possible pseudolegal moves\n",
    "    moves = Node('root')\n",
    "    # add possible striking moves\n",
    "    \n",
    "    # add plain movement moves\n",
    "    \n",
    "    return moves\n",
    "\n",
    "def movesPawnsW(b):\n",
    "    # shows possible normal moves of Black pawns\n",
    "    return np.roll((b['W'] & b['p']), 8) & ~(b['W'] | b['B'])\n",
    "\n",
    "def movesPawnsB(b):\n",
    "    # shows possible normal moves of Black pawns\n",
    "    \n",
    "    #((B & SCH) >> 8) & ~(WEI | SCH)\n",
    "    return np.roll((b['B'] & b['p']), -8) & ~(b['W'] | b['B'])\n",
    "\n",
    "def movablePawnsW(b):\n",
    "    # returns all White pawns that can move one ahead\n",
    "    return (b['W'] & b['p']) & ~np.roll((b['W'] | b['B']),-8)\n",
    "\n",
    "def movablePawnsB(b):\n",
    "    # returns all Black pawns that can move one ahead\n",
    "    \n",
    "    #((B & SCH) >> 8) & ~(WEI | SCH)\n",
    "    return (b['B'] & b['p']) & ~np.roll((b['W'] | b['B']),8)\n",
    "\n"
   ]
  },
  {
   "cell_type": "code",
   "execution_count": 153,
   "id": "bf8ebffc-f17c-4654-b7b7-44b3673703ab",
   "metadata": {},
   "outputs": [
    {
     "name": "stdout",
     "output_type": "stream",
     "text": [
      "[['/' '|' 'a' 'b' 'c' 'd' 'e' 'f' 'g' 'h']\n",
      " ['-' '+' '-' '-' '-' '-' '-' '-' '-' '-']\n",
      " ['1' '|' 'R' 'N' 'B' 'Q' 'K' 'B' 'N' 'R']\n",
      " ['2' '|' 'P' 'P' 'P' 'P' 'P' 'P' 'P' 'P']\n",
      " ['3' '|' '_' '_' '_' '_' '_' '_' '_' '_']\n",
      " ['4' '|' '_' '_' '_' '_' '_' '_' '_' '_']\n",
      " ['5' '|' '_' '_' '_' '_' '_' '_' '_' '_']\n",
      " ['6' '|' '_' '_' '_' '_' '_' '_' '_' '_']\n",
      " ['7' '|' 'p' 'p' 'p' 'p' 'p' 'p' 'p' 'p']\n",
      " ['8' '|' 'r' 'n' 'b' 'q' 'k' 'b' 'n' 'r']]\n"
     ]
    },
    {
     "data": {
      "text/plain": [
       "array([[False, False, False, False, False, False, False, False],\n",
       "       [False, False, False, False, False, False, False, False],\n",
       "       [False, False, False, False, False, False, False, False],\n",
       "       [False, False, False, False, False, False, False, False],\n",
       "       [False, False, False, False, False, False, False, False],\n",
       "       [False, False, False, False, False, False, False, False],\n",
       "       [ True,  True,  True,  True,  True,  True,  True,  True],\n",
       "       [False, False, False, False, False, False, False, False]])"
      ]
     },
     "execution_count": 153,
     "metadata": {},
     "output_type": "execute_result"
    }
   ],
   "source": [
    "b = initGame(giveBitboards())\n",
    "print(printBoard(b))\n",
    "movablePawnsW(b)\n",
    "movablePawnsB(b)"
   ]
  },
  {
   "cell_type": "code",
   "execution_count": 149,
   "id": "388073d1-ec02-4d4b-a24b-bfeac50a86b5",
   "metadata": {},
   "outputs": [
    {
     "data": {
      "text/plain": [
       "Node('/root')"
      ]
     },
     "execution_count": 149,
     "metadata": {},
     "output_type": "execute_result"
    }
   ],
   "source": [
    "player = 1\n",
    "generateMoves(b,player)"
   ]
  },
  {
   "cell_type": "code",
   "execution_count": null,
   "id": "c2aa3549-4b88-4838-bcd4-c540aa573b9c",
   "metadata": {},
   "outputs": [],
   "source": []
  },
  {
   "cell_type": "code",
   "execution_count": null,
   "id": "8daf7f80-b29d-48f4-9183-5aea20ff541c",
   "metadata": {},
   "outputs": [],
   "source": []
  },
  {
   "cell_type": "code",
   "execution_count": null,
   "id": "2859a1f6-ad64-451b-b0a4-dd29c43dd42d",
   "metadata": {},
   "outputs": [],
   "source": []
  }
 ],
 "metadata": {
  "kernelspec": {
   "display_name": "Python 3",
   "language": "python",
   "name": "python3"
  },
  "language_info": {
   "codemirror_mode": {
    "name": "ipython",
    "version": 3
   },
   "file_extension": ".py",
   "mimetype": "text/x-python",
   "name": "python",
   "nbconvert_exporter": "python",
   "pygments_lexer": "ipython3",
   "version": "3.7.9"
  }
 },
 "nbformat": 4,
 "nbformat_minor": 5
}
